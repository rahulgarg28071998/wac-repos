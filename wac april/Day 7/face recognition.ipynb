{
 "cells": [
  {
   "cell_type": "code",
   "execution_count": 6,
   "metadata": {},
   "outputs": [
    {
     "data": {
      "text/plain": [
       "'4.2.0'"
      ]
     },
     "execution_count": 6,
     "metadata": {},
     "output_type": "execute_result"
    }
   ],
   "source": [
    "import cv2\n",
    "import numpy as np \n",
    "import os \n",
    "\n",
    "cv2.__version__"
   ]
  },
  {
   "cell_type": "code",
   "execution_count": 7,
   "metadata": {},
   "outputs": [],
   "source": [
    "def distance(v1, v2): \n",
    "    return np.sqrt(((v1-v2)**2).sum())\n"
   ]
  },
  {
   "cell_type": "code",
   "execution_count": 8,
   "metadata": {},
   "outputs": [],
   "source": [
    "def knn(train, test, k=5):\n",
    "\tdist = []\n",
    "\t\n",
    "\tfor i in range(train.shape[0]):\n",
    "\t\t# Get the vector and label\n",
    "\t\tix = train[i, :-1]\n",
    "\t\tiy = train[i, -1]\n",
    "\t\t# Compute the distance from test point\n",
    "\t\td = distance(test, ix)\n",
    "\t\tdist.append([d, iy])\n",
    "\t# Sort based on distance and get top k\n",
    "\tdk = sorted(dist, key=lambda x: x[0])[:k]\n",
    "\t# Retrieve only the labels\n",
    "\tlabels = np.array(dk)[:, -1]\n",
    "\t\n",
    "\t# Get frequencies of each label\n",
    "\toutput = np.unique(labels, return_counts=True)\n",
    "\t# Find max frequency and corresponding label\n",
    "\tindex = np.argmax(output[1])\n",
    "\treturn output[0][index]"
   ]
  },
  {
   "cell_type": "code",
   "execution_count": 15,
   "metadata": {},
   "outputs": [
    {
     "name": "stdout",
     "output_type": "stream",
     "text": [
      "Loaded Rahul1.npy\n",
      "Loaded Rahul.npy\n",
      "(17, 30000)\n",
      "(17, 1)\n"
     ]
    }
   ],
   "source": [
    "cap = cv2.VideoCapture(0)\n",
    "\n",
    "# Face Detection\n",
    "face_cascade = cv2.CascadeClassifier(\"haarcascade_frontalface_alt.xml\")\n",
    "\n",
    "skip = 0\n",
    "dataset_path = './'\n",
    "\n",
    "face_data = [] \n",
    "labels = []\n",
    "\n",
    "class_id = 0 # Labels for the given file\n",
    "names = {} #Mapping btw id - name\n",
    "\n",
    "\n",
    "\n",
    "for fx in os.listdir(dataset_path):\n",
    "    if fx.endswith('.npy'):\n",
    "        #Create a mapping btw class_id and name\n",
    "        names[class_id] = fx[:-4]\n",
    "        print(\"Loaded \"+fx)\n",
    "        data_item = np.load(dataset_path+fx)\n",
    "        face_data.append(data_item)\n",
    "\n",
    "        #Create Labels for the class\n",
    "        target = class_id*np.ones((data_item.shape[0],))\n",
    "        class_id += 1\n",
    "        labels.append(target)\n",
    "\n",
    "face_dataset = np.concatenate(face_data,axis=0)\n",
    "face_labels = np.concatenate(labels,axis=0).reshape((-1,1))\n",
    "\n",
    "print(face_dataset.shape)\n",
    "print(face_labels.shape)\n"
   ]
  },
  {
   "cell_type": "code",
   "execution_count": 13,
   "metadata": {},
   "outputs": [
    {
     "name": "stdout",
     "output_type": "stream",
     "text": [
      "face detcection.i\n",
      "haarcascade_frontalface_alt\n",
      "Rahul1\n",
      ".ipynb_checkpo\n",
      "Rahul\n",
      "\n",
      "face recognition.i\n"
     ]
    }
   ],
   "source": [
    "for i in os.listdir():\n",
    "    print(i[:-4])"
   ]
  },
  {
   "cell_type": "code",
   "execution_count": 16,
   "metadata": {},
   "outputs": [
    {
     "name": "stdout",
     "output_type": "stream",
     "text": [
      "(17, 30001)\n"
     ]
    }
   ],
   "source": [
    "trainset = np.concatenate((face_dataset,face_labels),axis=1)\n",
    "print(trainset.shape)\n",
    "\n",
    "# Testing \n",
    "\n",
    "while True:\n",
    "\tret,frame = cap.read()\n",
    "\tif ret == False:\n",
    "\t\tcontinue\n",
    "\n",
    "\tfaces = face_cascade.detectMultiScale(frame,1.3,5)\n",
    "\tif(len(faces)==0):\n",
    "\t\tcontinue\n",
    "\n",
    "\tfor face in faces:\n",
    "\t\tx,y,w,h = face\n",
    "\n",
    "\t\t#Get the face ROI\n",
    "\t\toffset = 10\n",
    "\t\tface_section = frame[y-offset:y+h+offset,x-offset:x+w+offset]\n",
    "\t\tface_section = cv2.resize(face_section,(100,100))\n",
    "\n",
    "\t\t#Predicted Label (out)\n",
    "\t\tout = knn(trainset,face_section.flatten())\n",
    "\n",
    "\t\t#Display on the screen the name and rectangle around it\n",
    "\t\tpred_name = names[int(out)]\n",
    "\t\tcv2.putText(frame,pred_name,(x,y-10),cv2.FONT_HERSHEY_SIMPLEX,1,(255,0,0),2,cv2.LINE_AA)\n",
    "\t\tcv2.rectangle(frame,(x,y),(x+w,y+h),(0,255,255),2)\n",
    "\n",
    "\tcv2.imshow(\"Faces\",frame)\n",
    "\n",
    "\tkey = cv2.waitKey(1) & 0xFF\n",
    "\tif key==ord('q'):\n",
    "\t\tbreak\n",
    "\n",
    "cap.release()\n",
    "cv2.destroyAllWindows()"
   ]
  },
  {
   "cell_type": "code",
   "execution_count": null,
   "metadata": {},
   "outputs": [],
   "source": []
  }
 ],
 "metadata": {
  "kernelspec": {
   "display_name": "Python 3",
   "language": "python",
   "name": "python3"
  },
  "language_info": {
   "codemirror_mode": {
    "name": "ipython",
    "version": 3
   },
   "file_extension": ".py",
   "mimetype": "text/x-python",
   "name": "python",
   "nbconvert_exporter": "python",
   "pygments_lexer": "ipython3",
   "version": "3.7.6"
  }
 },
 "nbformat": 4,
 "nbformat_minor": 4
}
